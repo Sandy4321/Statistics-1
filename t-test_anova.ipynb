{
 "cells": [
  {
   "cell_type": "code",
   "execution_count": 9,
   "metadata": {},
   "outputs": [],
   "source": [
    "import pandas as pd\n",
    "import numpy as np\n",
    "import matplotlib.pyplot as plt\n",
    "import seaborn as sns\n",
    "import pingouin as pg"
   ]
  },
  {
   "cell_type": "markdown",
   "metadata": {},
   "source": [
    "T-test"
   ]
  },
  {
   "cell_type": "code",
   "execution_count": 10,
   "metadata": {},
   "outputs": [],
   "source": [
    "df1=pd.read_excel(\"Sales Data.xlsx\",sheet_name='Sales Data')\n",
    "df2=pd.read_excel(\"Sales Data.xlsx\",sheet_name='Product Master')\n",
    "df3=pd.read_excel(\"Sales Data.xlsx\",sheet_name='Emp Master')"
   ]
  },
  {
   "cell_type": "code",
   "execution_count": 11,
   "metadata": {},
   "outputs": [],
   "source": [
    "df4 = pd.merge(df1,df2, on ='Product ID', how ='inner')\n",
    "df4['Revenue']=df4['Unit Sold']*df4['Price per unit']\n",
    "df = pd.merge(df4,df3, on ='EMP ID', how ='inner')"
   ]
  },
  {
   "cell_type": "code",
   "execution_count": 14,
   "metadata": {},
   "outputs": [
    {
     "data": {
      "text/html": [
       "<div>\n",
       "<style scoped>\n",
       "    .dataframe tbody tr th:only-of-type {\n",
       "        vertical-align: middle;\n",
       "    }\n",
       "\n",
       "    .dataframe tbody tr th {\n",
       "        vertical-align: top;\n",
       "    }\n",
       "\n",
       "    .dataframe thead th {\n",
       "        text-align: right;\n",
       "    }\n",
       "</style>\n",
       "<table border=\"1\" class=\"dataframe\">\n",
       "  <thead>\n",
       "    <tr style=\"text-align: right;\">\n",
       "      <th></th>\n",
       "      <th>Date</th>\n",
       "      <th>EMP ID</th>\n",
       "      <th>Product ID</th>\n",
       "      <th>Unit Sold</th>\n",
       "      <th>Product Name</th>\n",
       "      <th>Price per unit</th>\n",
       "      <th>Revenue</th>\n",
       "      <th>EMP Name</th>\n",
       "      <th>Supervisor</th>\n",
       "    </tr>\n",
       "  </thead>\n",
       "  <tbody>\n",
       "    <tr>\n",
       "      <th>0</th>\n",
       "      <td>2019-01-01</td>\n",
       "      <td>10019</td>\n",
       "      <td>P10007</td>\n",
       "      <td>199</td>\n",
       "      <td>Product-7</td>\n",
       "      <td>145</td>\n",
       "      <td>28855</td>\n",
       "      <td>EMP-19</td>\n",
       "      <td>Supervisor-4</td>\n",
       "    </tr>\n",
       "    <tr>\n",
       "      <th>1</th>\n",
       "      <td>2019-01-01</td>\n",
       "      <td>10019</td>\n",
       "      <td>P10007</td>\n",
       "      <td>264</td>\n",
       "      <td>Product-7</td>\n",
       "      <td>145</td>\n",
       "      <td>38280</td>\n",
       "      <td>EMP-19</td>\n",
       "      <td>Supervisor-4</td>\n",
       "    </tr>\n",
       "    <tr>\n",
       "      <th>2</th>\n",
       "      <td>2019-01-06</td>\n",
       "      <td>10019</td>\n",
       "      <td>P10007</td>\n",
       "      <td>256</td>\n",
       "      <td>Product-7</td>\n",
       "      <td>145</td>\n",
       "      <td>37120</td>\n",
       "      <td>EMP-19</td>\n",
       "      <td>Supervisor-4</td>\n",
       "    </tr>\n",
       "    <tr>\n",
       "      <th>3</th>\n",
       "      <td>2019-01-20</td>\n",
       "      <td>10019</td>\n",
       "      <td>P10007</td>\n",
       "      <td>55</td>\n",
       "      <td>Product-7</td>\n",
       "      <td>145</td>\n",
       "      <td>7975</td>\n",
       "      <td>EMP-19</td>\n",
       "      <td>Supervisor-4</td>\n",
       "    </tr>\n",
       "    <tr>\n",
       "      <th>4</th>\n",
       "      <td>2019-01-26</td>\n",
       "      <td>10019</td>\n",
       "      <td>P10007</td>\n",
       "      <td>87</td>\n",
       "      <td>Product-7</td>\n",
       "      <td>145</td>\n",
       "      <td>12615</td>\n",
       "      <td>EMP-19</td>\n",
       "      <td>Supervisor-4</td>\n",
       "    </tr>\n",
       "    <tr>\n",
       "      <th>...</th>\n",
       "      <td>...</td>\n",
       "      <td>...</td>\n",
       "      <td>...</td>\n",
       "      <td>...</td>\n",
       "      <td>...</td>\n",
       "      <td>...</td>\n",
       "      <td>...</td>\n",
       "      <td>...</td>\n",
       "      <td>...</td>\n",
       "    </tr>\n",
       "    <tr>\n",
       "      <th>6485</th>\n",
       "      <td>2019-04-07</td>\n",
       "      <td>10020</td>\n",
       "      <td>P10011</td>\n",
       "      <td>251</td>\n",
       "      <td>Product-11</td>\n",
       "      <td>23</td>\n",
       "      <td>5773</td>\n",
       "      <td>EMP-20</td>\n",
       "      <td>Supervisor-4</td>\n",
       "    </tr>\n",
       "    <tr>\n",
       "      <th>6486</th>\n",
       "      <td>2019-04-11</td>\n",
       "      <td>10020</td>\n",
       "      <td>P10011</td>\n",
       "      <td>58</td>\n",
       "      <td>Product-11</td>\n",
       "      <td>23</td>\n",
       "      <td>1334</td>\n",
       "      <td>EMP-20</td>\n",
       "      <td>Supervisor-4</td>\n",
       "    </tr>\n",
       "    <tr>\n",
       "      <th>6487</th>\n",
       "      <td>2019-04-11</td>\n",
       "      <td>10020</td>\n",
       "      <td>P10011</td>\n",
       "      <td>293</td>\n",
       "      <td>Product-11</td>\n",
       "      <td>23</td>\n",
       "      <td>6739</td>\n",
       "      <td>EMP-20</td>\n",
       "      <td>Supervisor-4</td>\n",
       "    </tr>\n",
       "    <tr>\n",
       "      <th>6488</th>\n",
       "      <td>2019-04-12</td>\n",
       "      <td>10020</td>\n",
       "      <td>P10011</td>\n",
       "      <td>98</td>\n",
       "      <td>Product-11</td>\n",
       "      <td>23</td>\n",
       "      <td>2254</td>\n",
       "      <td>EMP-20</td>\n",
       "      <td>Supervisor-4</td>\n",
       "    </tr>\n",
       "    <tr>\n",
       "      <th>6489</th>\n",
       "      <td>2019-04-20</td>\n",
       "      <td>10020</td>\n",
       "      <td>P10011</td>\n",
       "      <td>299</td>\n",
       "      <td>Product-11</td>\n",
       "      <td>23</td>\n",
       "      <td>6877</td>\n",
       "      <td>EMP-20</td>\n",
       "      <td>Supervisor-4</td>\n",
       "    </tr>\n",
       "  </tbody>\n",
       "</table>\n",
       "<p>6490 rows × 9 columns</p>\n",
       "</div>"
      ],
      "text/plain": [
       "           Date  EMP ID Product ID  Unit Sold Product Name  Price per unit  \\\n",
       "0    2019-01-01   10019     P10007        199    Product-7             145   \n",
       "1    2019-01-01   10019     P10007        264    Product-7             145   \n",
       "2    2019-01-06   10019     P10007        256    Product-7             145   \n",
       "3    2019-01-20   10019     P10007         55    Product-7             145   \n",
       "4    2019-01-26   10019     P10007         87    Product-7             145   \n",
       "...         ...     ...        ...        ...          ...             ...   \n",
       "6485 2019-04-07   10020     P10011        251   Product-11              23   \n",
       "6486 2019-04-11   10020     P10011         58   Product-11              23   \n",
       "6487 2019-04-11   10020     P10011        293   Product-11              23   \n",
       "6488 2019-04-12   10020     P10011         98   Product-11              23   \n",
       "6489 2019-04-20   10020     P10011        299   Product-11              23   \n",
       "\n",
       "      Revenue EMP Name    Supervisor  \n",
       "0       28855   EMP-19  Supervisor-4  \n",
       "1       38280   EMP-19  Supervisor-4  \n",
       "2       37120   EMP-19  Supervisor-4  \n",
       "3        7975   EMP-19  Supervisor-4  \n",
       "4       12615   EMP-19  Supervisor-4  \n",
       "...       ...      ...           ...  \n",
       "6485     5773   EMP-20  Supervisor-4  \n",
       "6486     1334   EMP-20  Supervisor-4  \n",
       "6487     6739   EMP-20  Supervisor-4  \n",
       "6488     2254   EMP-20  Supervisor-4  \n",
       "6489     6877   EMP-20  Supervisor-4  \n",
       "\n",
       "[6490 rows x 9 columns]"
      ]
     },
     "execution_count": 14,
     "metadata": {},
     "output_type": "execute_result"
    }
   ],
   "source": [
    "df"
   ]
  },
  {
   "cell_type": "code",
   "execution_count": 34,
   "metadata": {},
   "outputs": [],
   "source": [
    "count1=df['Revenue'].count()"
   ]
  },
  {
   "cell_type": "code",
   "execution_count": 35,
   "metadata": {},
   "outputs": [
    {
     "data": {
      "text/plain": [
       "6490"
      ]
     },
     "execution_count": 35,
     "metadata": {},
     "output_type": "execute_result"
    }
   ],
   "source": [
    "count1"
   ]
  },
  {
   "cell_type": "code",
   "execution_count": 62,
   "metadata": {},
   "outputs": [],
   "source": [
    "# Revenue from supervisr1\n",
    "rev1=df[df['Supervisor']=='Supervisor-1']\n",
    "rev1_sum=rev1.Revenue.sum()\n",
    "rev1_count=rev1.Revenue.count()\n",
    "rev1_mean=rev1_sum/rev1_count\n",
    "\n",
    "# Revenue from supervisr2\n",
    "rev2=df[df['Supervisor']=='Supervisor-2']\n",
    "rev2_sum=rev2.Revenue.sum()\n",
    "rev2_count=rev2.Revenue.count()\n",
    "rev2_mean=rev2_sum/rev2_count"
   ]
  },
  {
   "cell_type": "code",
   "execution_count": 63,
   "metadata": {},
   "outputs": [
    {
     "data": {
      "text/plain": [
       "15137.478326612903"
      ]
     },
     "execution_count": 63,
     "metadata": {},
     "output_type": "execute_result"
    }
   ],
   "source": [
    "rev1_mean"
   ]
  },
  {
   "cell_type": "code",
   "execution_count": 64,
   "metadata": {},
   "outputs": [
    {
     "data": {
      "text/plain": [
       "14711.63009636768"
      ]
     },
     "execution_count": 64,
     "metadata": {},
     "output_type": "execute_result"
    }
   ],
   "source": [
    "rev2_mean"
   ]
  },
  {
   "cell_type": "code",
   "execution_count": 67,
   "metadata": {},
   "outputs": [
    {
     "data": {
      "text/html": [
       "<div>\n",
       "<style scoped>\n",
       "    .dataframe tbody tr th:only-of-type {\n",
       "        vertical-align: middle;\n",
       "    }\n",
       "\n",
       "    .dataframe tbody tr th {\n",
       "        vertical-align: top;\n",
       "    }\n",
       "\n",
       "    .dataframe thead th {\n",
       "        text-align: right;\n",
       "    }\n",
       "</style>\n",
       "<table border=\"1\" class=\"dataframe\">\n",
       "  <thead>\n",
       "    <tr style=\"text-align: right;\">\n",
       "      <th></th>\n",
       "      <th>T</th>\n",
       "      <th>dof</th>\n",
       "      <th>tail</th>\n",
       "      <th>p-val</th>\n",
       "      <th>CI95%</th>\n",
       "      <th>cohen-d</th>\n",
       "      <th>BF10</th>\n",
       "      <th>power</th>\n",
       "    </tr>\n",
       "  </thead>\n",
       "  <tbody>\n",
       "    <tr>\n",
       "      <th>T-test</th>\n",
       "      <td>1.283289</td>\n",
       "      <td>2938.206243</td>\n",
       "      <td>two-sided</td>\n",
       "      <td>0.199492</td>\n",
       "      <td>[-224.82, 1076.51]</td>\n",
       "      <td>0.045088</td>\n",
       "      <td>0.09</td>\n",
       "      <td>0.248018</td>\n",
       "    </tr>\n",
       "  </tbody>\n",
       "</table>\n",
       "</div>"
      ],
      "text/plain": [
       "               T          dof       tail     p-val               CI95%  \\\n",
       "T-test  1.283289  2938.206243  two-sided  0.199492  [-224.82, 1076.51]   \n",
       "\n",
       "         cohen-d  BF10     power  \n",
       "T-test  0.045088  0.09  0.248018  "
      ]
     },
     "execution_count": 67,
     "metadata": {},
     "output_type": "execute_result"
    }
   ],
   "source": [
    "pg.ttest(rev1.Revenue, rev2.Revenue)"
   ]
  },
  {
   "cell_type": "code",
   "execution_count": null,
   "metadata": {},
   "outputs": [],
   "source": []
  },
  {
   "cell_type": "markdown",
   "metadata": {},
   "source": [
    "Anova"
   ]
  },
  {
   "cell_type": "code",
   "execution_count": 70,
   "metadata": {},
   "outputs": [
    {
     "data": {
      "text/html": [
       "<div>\n",
       "<style scoped>\n",
       "    .dataframe tbody tr th:only-of-type {\n",
       "        vertical-align: middle;\n",
       "    }\n",
       "\n",
       "    .dataframe tbody tr th {\n",
       "        vertical-align: top;\n",
       "    }\n",
       "\n",
       "    .dataframe thead th {\n",
       "        text-align: right;\n",
       "    }\n",
       "</style>\n",
       "<table border=\"1\" class=\"dataframe\">\n",
       "  <thead>\n",
       "    <tr style=\"text-align: right;\">\n",
       "      <th></th>\n",
       "      <th>Source</th>\n",
       "      <th>SS</th>\n",
       "      <th>DF</th>\n",
       "      <th>MS</th>\n",
       "      <th>F</th>\n",
       "      <th>p-unc</th>\n",
       "      <th>np2</th>\n",
       "    </tr>\n",
       "  </thead>\n",
       "  <tbody>\n",
       "    <tr>\n",
       "      <th>0</th>\n",
       "      <td>Supervisor</td>\n",
       "      <td>2.293426e+08</td>\n",
       "      <td>3</td>\n",
       "      <td>7.644753e+07</td>\n",
       "      <td>0.867776</td>\n",
       "      <td>0.456963</td>\n",
       "      <td>0.000401</td>\n",
       "    </tr>\n",
       "    <tr>\n",
       "      <th>1</th>\n",
       "      <td>Within</td>\n",
       "      <td>5.713902e+11</td>\n",
       "      <td>6486</td>\n",
       "      <td>8.809592e+07</td>\n",
       "      <td>NaN</td>\n",
       "      <td>NaN</td>\n",
       "      <td>NaN</td>\n",
       "    </tr>\n",
       "  </tbody>\n",
       "</table>\n",
       "</div>"
      ],
      "text/plain": [
       "       Source            SS    DF            MS         F     p-unc       np2\n",
       "0  Supervisor  2.293426e+08     3  7.644753e+07  0.867776  0.456963  0.000401\n",
       "1      Within  5.713902e+11  6486  8.809592e+07       NaN       NaN       NaN"
      ]
     },
     "execution_count": 70,
     "metadata": {},
     "output_type": "execute_result"
    }
   ],
   "source": [
    "aov = pg.anova(data=df, dv='Revenue', between='Supervisor', detailed=True)\n",
    "aov"
   ]
  },
  {
   "cell_type": "code",
   "execution_count": null,
   "metadata": {},
   "outputs": [],
   "source": []
  },
  {
   "cell_type": "code",
   "execution_count": 73,
   "metadata": {},
   "outputs": [
    {
     "data": {
      "text/html": [
       "<div>\n",
       "<style scoped>\n",
       "    .dataframe tbody tr th:only-of-type {\n",
       "        vertical-align: middle;\n",
       "    }\n",
       "\n",
       "    .dataframe tbody tr th {\n",
       "        vertical-align: top;\n",
       "    }\n",
       "\n",
       "    .dataframe thead th {\n",
       "        text-align: right;\n",
       "    }\n",
       "</style>\n",
       "<table border=\"1\" class=\"dataframe\">\n",
       "  <thead>\n",
       "    <tr style=\"text-align: right;\">\n",
       "      <th></th>\n",
       "      <th>sum_sq</th>\n",
       "      <th>df</th>\n",
       "      <th>F</th>\n",
       "      <th>PR(&gt;F)</th>\n",
       "    </tr>\n",
       "  </thead>\n",
       "  <tbody>\n",
       "    <tr>\n",
       "      <th>Supervisor</th>\n",
       "      <td>2.293426e+08</td>\n",
       "      <td>3.0</td>\n",
       "      <td>0.867776</td>\n",
       "      <td>0.456963</td>\n",
       "    </tr>\n",
       "    <tr>\n",
       "      <th>Residual</th>\n",
       "      <td>5.713902e+11</td>\n",
       "      <td>6486.0</td>\n",
       "      <td>NaN</td>\n",
       "      <td>NaN</td>\n",
       "    </tr>\n",
       "  </tbody>\n",
       "</table>\n",
       "</div>"
      ],
      "text/plain": [
       "                  sum_sq      df         F    PR(>F)\n",
       "Supervisor  2.293426e+08     3.0  0.867776  0.456963\n",
       "Residual    5.713902e+11  6486.0       NaN       NaN"
      ]
     },
     "execution_count": 73,
     "metadata": {},
     "output_type": "execute_result"
    }
   ],
   "source": [
    "import statsmodels.api as sm\n",
    "from statsmodels.formula.api import ols\n",
    "\n",
    "mod = ols('Revenue ~ Supervisor',\n",
    "                data=df).fit()\n",
    "                \n",
    "aov_table = sm.stats.anova_lm(mod, typ=2)\n",
    "aov_table"
   ]
  },
  {
   "cell_type": "code",
   "execution_count": null,
   "metadata": {},
   "outputs": [],
   "source": []
  }
 ],
 "metadata": {
  "kernelspec": {
   "display_name": "Python 3",
   "language": "python",
   "name": "python3"
  },
  "language_info": {
   "codemirror_mode": {
    "name": "ipython",
    "version": 3
   },
   "file_extension": ".py",
   "mimetype": "text/x-python",
   "name": "python",
   "nbconvert_exporter": "python",
   "pygments_lexer": "ipython3",
   "version": "3.7.6"
  }
 },
 "nbformat": 4,
 "nbformat_minor": 4
}
